{
 "cells": [
  {
   "cell_type": "markdown",
   "id": "6e12f562-52b8-47e6-b292-ddc6810a8912",
   "metadata": {},
   "source": [
    "### Information Retrieval Coursework (STW7071CEM)"
   ]
  },
  {
   "cell_type": "markdown",
   "id": "0f9149ed-a46c-4430-b16a-5f2bfd9796e3",
   "metadata": {},
   "source": [
    "Task: Develop a document clustering system.\n",
    "\n",
    "First, collect a number of documents that belong to different categories, namely Sport, Health and Business. Each document should be at least one sentence (the longer is usually the better). The total number of documents is up to you but should be at least 100 (the more is usually the better).\r\n",
    "\n",
    "Once you have collected sufficient documents, cluster them using a standard clustering method (e.g. K-means).\n",
    "\r\n",
    "Finally, use the created model to assign a new document to one of the existing clusters. That is, the user enters a document (e.g. a sentence) and your system outputs the right cluster."
   ]
  },
  {
   "cell_type": "markdown",
   "id": "4e2b6f23-4210-4333-9125-83c141398dfa",
   "metadata": {},
   "source": [
    "### Importing Modules"
   ]
  },
  {
   "cell_type": "code",
   "execution_count": 1,
   "id": "ef65c1e2-ed42-47b2-a5ae-12ca780487da",
   "metadata": {},
   "outputs": [],
   "source": [
    "import os\n",
    "import string\n",
    "\n",
    "# Data Handling and Processing\n",
    "import pandas as pd\n",
    "import numpy as np\n",
    "import re\n",
    "from scipy import interp\n",
    "\n",
    "\n",
    "# Visualuzation\n",
    "import matplotlib.pyplot as plt\n",
    "%matplotlib inline\n",
    "%config InlineBackend.figure_format='retina'\n",
    "\n",
    "# NLP Packages\n",
    "from nltk.tokenize import word_tokenize\n",
    "from nltk.corpus import stopwords, wordnet\n",
    "from nltk.stem import WordNetLemmatizer\n",
    "from nltk import pos_tag\n",
    "import nltk\n",
    "from joblib import dump, load\n",
    "\n",
    "\n",
    "# ML Models\n",
    "from sklearn.linear_model import LogisticRegression\n",
    "from sklearn.naive_bayes import MultinomialNB\n",
    "from sklearn.linear_model import RidgeClassifier\n",
    "from sklearn.tree import DecisionTreeClassifier\n",
    "\n",
    "# Scikit Learn packages\n",
    "from sklearn.base import clone\n",
    "from sklearn.preprocessing import label_binarize, LabelEncoder\n",
    "from sklearn.feature_extraction.text import TfidfVectorizer, CountVectorizer\n",
    "from sklearn.model_selection import KFold, cross_validate, cross_val_score, train_test_split\n",
    "from sklearn.pipeline import Pipeline\n",
    "from sklearn import metrics\n",
    "from sklearn.metrics import roc_curve, auc"
   ]
  },
  {
   "cell_type": "markdown",
   "id": "711b2c2f-3bd7-4ff1-a06c-06bd65d06ab6",
   "metadata": {},
   "source": [
    "### Load Dataset"
   ]
  },
  {
   "cell_type": "code",
   "execution_count": 2,
   "id": "9bb035a9-00af-4bd1-99e0-7642960f6e42",
   "metadata": {},
   "outputs": [
    {
     "name": "stdout",
     "output_type": "stream",
     "text": [
      "(15000, 5)\n"
     ]
    },
    {
     "data": {
      "text/html": [
       "<div>\n",
       "<style scoped>\n",
       "    .dataframe tbody tr th:only-of-type {\n",
       "        vertical-align: middle;\n",
       "    }\n",
       "\n",
       "    .dataframe tbody tr th {\n",
       "        vertical-align: top;\n",
       "    }\n",
       "\n",
       "    .dataframe thead th {\n",
       "        text-align: right;\n",
       "    }\n",
       "</style>\n",
       "<table border=\"1\" class=\"dataframe\">\n",
       "  <thead>\n",
       "    <tr style=\"text-align: right;\">\n",
       "      <th></th>\n",
       "      <th>category</th>\n",
       "      <th>headline</th>\n",
       "      <th>links</th>\n",
       "      <th>news</th>\n",
       "      <th>keywords</th>\n",
       "    </tr>\n",
       "  </thead>\n",
       "  <tbody>\n",
       "    <tr>\n",
       "      <th>0</th>\n",
       "      <td>HEALTH</td>\n",
       "      <td>143 Miles in 35 Days: Lessons Learned</td>\n",
       "      <td>https://www.huffingtonpost.com/entry/running-l...</td>\n",
       "      <td>Resting is part of training. I've confirmed wh...</td>\n",
       "      <td>running-lessons</td>\n",
       "    </tr>\n",
       "    <tr>\n",
       "      <th>1</th>\n",
       "      <td>HEALTH</td>\n",
       "      <td>Talking to Yourself: Crazy or Crazy Helpful?</td>\n",
       "      <td>https://www.huffingtonpost.com/entry/talking-t...</td>\n",
       "      <td>Think of talking to yourself as a tool to coac...</td>\n",
       "      <td>talking-to-yourself-crazy</td>\n",
       "    </tr>\n",
       "    <tr>\n",
       "      <th>2</th>\n",
       "      <td>HEALTH</td>\n",
       "      <td>Crenezumab: Trial Will Gauge Whether Alzheimer...</td>\n",
       "      <td>https://www.huffingtonpost.com/entry/crenezuma...</td>\n",
       "      <td>The clock is ticking for the United States to ...</td>\n",
       "      <td>crenezumab-alzheimers-disease-drug</td>\n",
       "    </tr>\n",
       "    <tr>\n",
       "      <th>3</th>\n",
       "      <td>HEALTH</td>\n",
       "      <td>Oh, What a Difference She Made</td>\n",
       "      <td>https://www.huffingtonpost.com/entry/meaningfu...</td>\n",
       "      <td>If you want to be busy, keep trying to be perf...</td>\n",
       "      <td>meaningful-life</td>\n",
       "    </tr>\n",
       "    <tr>\n",
       "      <th>4</th>\n",
       "      <td>HEALTH</td>\n",
       "      <td>Green Superfoods</td>\n",
       "      <td>https://www.huffingtonpost.com/entry/green-sup...</td>\n",
       "      <td>First, the bad news: Soda bread, corned beef a...</td>\n",
       "      <td>green-superfoods</td>\n",
       "    </tr>\n",
       "  </tbody>\n",
       "</table>\n",
       "</div>"
      ],
      "text/plain": [
       "  category                                           headline  \\\n",
       "0   HEALTH              143 Miles in 35 Days: Lessons Learned   \n",
       "1   HEALTH       Talking to Yourself: Crazy or Crazy Helpful?   \n",
       "2   HEALTH  Crenezumab: Trial Will Gauge Whether Alzheimer...   \n",
       "3   HEALTH                     Oh, What a Difference She Made   \n",
       "4   HEALTH                                   Green Superfoods   \n",
       "\n",
       "                                               links  \\\n",
       "0  https://www.huffingtonpost.com/entry/running-l...   \n",
       "1  https://www.huffingtonpost.com/entry/talking-t...   \n",
       "2  https://www.huffingtonpost.com/entry/crenezuma...   \n",
       "3  https://www.huffingtonpost.com/entry/meaningfu...   \n",
       "4  https://www.huffingtonpost.com/entry/green-sup...   \n",
       "\n",
       "                                                news  \\\n",
       "0  Resting is part of training. I've confirmed wh...   \n",
       "1  Think of talking to yourself as a tool to coac...   \n",
       "2  The clock is ticking for the United States to ...   \n",
       "3  If you want to be busy, keep trying to be perf...   \n",
       "4  First, the bad news: Soda bread, corned beef a...   \n",
       "\n",
       "                             keywords  \n",
       "0                     running-lessons  \n",
       "1           talking-to-yourself-crazy  \n",
       "2  crenezumab-alzheimers-disease-drug  \n",
       "3                     meaningful-life  \n",
       "4                    green-superfoods  "
      ]
     },
     "execution_count": 2,
     "metadata": {},
     "output_type": "execute_result"
    }
   ],
   "source": [
    "df = pd.read_csv('news-dataset.csv',encoding='latin1')\n",
    "df = df[df['category'].isin(['HEALTH','SPORTS','BUSINESS'])]\n",
    "print(df.shape)\n",
    "df.head()\n"
   ]
  },
  {
   "cell_type": "code",
   "execution_count": 3,
   "id": "cd025028-6cfd-4f5f-8457-8a8c64cf8999",
   "metadata": {},
   "outputs": [
    {
     "data": {
      "text/html": [
       "<div>\n",
       "<style scoped>\n",
       "    .dataframe tbody tr th:only-of-type {\n",
       "        vertical-align: middle;\n",
       "    }\n",
       "\n",
       "    .dataframe tbody tr th {\n",
       "        vertical-align: top;\n",
       "    }\n",
       "\n",
       "    .dataframe thead th {\n",
       "        text-align: right;\n",
       "    }\n",
       "</style>\n",
       "<table border=\"1\" class=\"dataframe\">\n",
       "  <thead>\n",
       "    <tr style=\"text-align: right;\">\n",
       "      <th></th>\n",
       "      <th>category</th>\n",
       "      <th>links</th>\n",
       "      <th>news</th>\n",
       "      <th>keywords</th>\n",
       "    </tr>\n",
       "  </thead>\n",
       "  <tbody>\n",
       "    <tr>\n",
       "      <th>0</th>\n",
       "      <td>HEALTH</td>\n",
       "      <td>https://www.huffingtonpost.com/entry/running-l...</td>\n",
       "      <td>Resting is part of training. I've confirmed wh...</td>\n",
       "      <td>running-lessons</td>\n",
       "    </tr>\n",
       "    <tr>\n",
       "      <th>1</th>\n",
       "      <td>HEALTH</td>\n",
       "      <td>https://www.huffingtonpost.com/entry/talking-t...</td>\n",
       "      <td>Think of talking to yourself as a tool to coac...</td>\n",
       "      <td>talking-to-yourself-crazy</td>\n",
       "    </tr>\n",
       "    <tr>\n",
       "      <th>2</th>\n",
       "      <td>HEALTH</td>\n",
       "      <td>https://www.huffingtonpost.com/entry/crenezuma...</td>\n",
       "      <td>The clock is ticking for the United States to ...</td>\n",
       "      <td>crenezumab-alzheimers-disease-drug</td>\n",
       "    </tr>\n",
       "    <tr>\n",
       "      <th>3</th>\n",
       "      <td>HEALTH</td>\n",
       "      <td>https://www.huffingtonpost.com/entry/meaningfu...</td>\n",
       "      <td>If you want to be busy, keep trying to be perf...</td>\n",
       "      <td>meaningful-life</td>\n",
       "    </tr>\n",
       "    <tr>\n",
       "      <th>4</th>\n",
       "      <td>HEALTH</td>\n",
       "      <td>https://www.huffingtonpost.com/entry/green-sup...</td>\n",
       "      <td>First, the bad news: Soda bread, corned beef a...</td>\n",
       "      <td>green-superfoods</td>\n",
       "    </tr>\n",
       "  </tbody>\n",
       "</table>\n",
       "</div>"
      ],
      "text/plain": [
       "  category                                              links  \\\n",
       "0   HEALTH  https://www.huffingtonpost.com/entry/running-l...   \n",
       "1   HEALTH  https://www.huffingtonpost.com/entry/talking-t...   \n",
       "2   HEALTH  https://www.huffingtonpost.com/entry/crenezuma...   \n",
       "3   HEALTH  https://www.huffingtonpost.com/entry/meaningfu...   \n",
       "4   HEALTH  https://www.huffingtonpost.com/entry/green-sup...   \n",
       "\n",
       "                                                news  \\\n",
       "0  Resting is part of training. I've confirmed wh...   \n",
       "1  Think of talking to yourself as a tool to coac...   \n",
       "2  The clock is ticking for the United States to ...   \n",
       "3  If you want to be busy, keep trying to be perf...   \n",
       "4  First, the bad news: Soda bread, corned beef a...   \n",
       "\n",
       "                             keywords  \n",
       "0                     running-lessons  \n",
       "1           talking-to-yourself-crazy  \n",
       "2  crenezumab-alzheimers-disease-drug  \n",
       "3                     meaningful-life  \n",
       "4                    green-superfoods  "
      ]
     },
     "execution_count": 3,
     "metadata": {},
     "output_type": "execute_result"
    }
   ],
   "source": [
    "df.drop(columns=['headline'], inplace=True)\n",
    "df.head()"
   ]
  },
  {
   "cell_type": "code",
   "execution_count": 4,
   "id": "7bbaae70-507e-4f90-8cc2-a6cac567d627",
   "metadata": {},
   "outputs": [
    {
     "data": {
      "text/html": [
       "<div>\n",
       "<style scoped>\n",
       "    .dataframe tbody tr th:only-of-type {\n",
       "        vertical-align: middle;\n",
       "    }\n",
       "\n",
       "    .dataframe tbody tr th {\n",
       "        vertical-align: top;\n",
       "    }\n",
       "\n",
       "    .dataframe thead th {\n",
       "        text-align: right;\n",
       "    }\n",
       "</style>\n",
       "<table border=\"1\" class=\"dataframe\">\n",
       "  <thead>\n",
       "    <tr style=\"text-align: right;\">\n",
       "      <th></th>\n",
       "      <th>category</th>\n",
       "      <th>news</th>\n",
       "      <th>keywords</th>\n",
       "    </tr>\n",
       "  </thead>\n",
       "  <tbody>\n",
       "    <tr>\n",
       "      <th>0</th>\n",
       "      <td>HEALTH</td>\n",
       "      <td>Resting is part of training. I've confirmed wh...</td>\n",
       "      <td>running-lessons</td>\n",
       "    </tr>\n",
       "    <tr>\n",
       "      <th>1</th>\n",
       "      <td>HEALTH</td>\n",
       "      <td>Think of talking to yourself as a tool to coac...</td>\n",
       "      <td>talking-to-yourself-crazy</td>\n",
       "    </tr>\n",
       "    <tr>\n",
       "      <th>2</th>\n",
       "      <td>HEALTH</td>\n",
       "      <td>The clock is ticking for the United States to ...</td>\n",
       "      <td>crenezumab-alzheimers-disease-drug</td>\n",
       "    </tr>\n",
       "    <tr>\n",
       "      <th>3</th>\n",
       "      <td>HEALTH</td>\n",
       "      <td>If you want to be busy, keep trying to be perf...</td>\n",
       "      <td>meaningful-life</td>\n",
       "    </tr>\n",
       "    <tr>\n",
       "      <th>4</th>\n",
       "      <td>HEALTH</td>\n",
       "      <td>First, the bad news: Soda bread, corned beef a...</td>\n",
       "      <td>green-superfoods</td>\n",
       "    </tr>\n",
       "  </tbody>\n",
       "</table>\n",
       "</div>"
      ],
      "text/plain": [
       "  category                                               news  \\\n",
       "0   HEALTH  Resting is part of training. I've confirmed wh...   \n",
       "1   HEALTH  Think of talking to yourself as a tool to coac...   \n",
       "2   HEALTH  The clock is ticking for the United States to ...   \n",
       "3   HEALTH  If you want to be busy, keep trying to be perf...   \n",
       "4   HEALTH  First, the bad news: Soda bread, corned beef a...   \n",
       "\n",
       "                             keywords  \n",
       "0                     running-lessons  \n",
       "1           talking-to-yourself-crazy  \n",
       "2  crenezumab-alzheimers-disease-drug  \n",
       "3                     meaningful-life  \n",
       "4                    green-superfoods  "
      ]
     },
     "execution_count": 4,
     "metadata": {},
     "output_type": "execute_result"
    }
   ],
   "source": [
    "df.drop(columns=['links'], inplace=True)\n",
    "df.head()"
   ]
  },
  {
   "cell_type": "code",
   "execution_count": 5,
   "id": "741b10b8-fca9-4834-af6d-b4c6423219f9",
   "metadata": {},
   "outputs": [
    {
     "data": {
      "text/html": [
       "<div>\n",
       "<style scoped>\n",
       "    .dataframe tbody tr th:only-of-type {\n",
       "        vertical-align: middle;\n",
       "    }\n",
       "\n",
       "    .dataframe tbody tr th {\n",
       "        vertical-align: top;\n",
       "    }\n",
       "\n",
       "    .dataframe thead th {\n",
       "        text-align: right;\n",
       "    }\n",
       "</style>\n",
       "<table border=\"1\" class=\"dataframe\">\n",
       "  <thead>\n",
       "    <tr style=\"text-align: right;\">\n",
       "      <th></th>\n",
       "      <th>category</th>\n",
       "      <th>news</th>\n",
       "    </tr>\n",
       "  </thead>\n",
       "  <tbody>\n",
       "    <tr>\n",
       "      <th>0</th>\n",
       "      <td>HEALTH</td>\n",
       "      <td>Resting is part of training. I've confirmed wh...</td>\n",
       "    </tr>\n",
       "    <tr>\n",
       "      <th>1</th>\n",
       "      <td>HEALTH</td>\n",
       "      <td>Think of talking to yourself as a tool to coac...</td>\n",
       "    </tr>\n",
       "    <tr>\n",
       "      <th>2</th>\n",
       "      <td>HEALTH</td>\n",
       "      <td>The clock is ticking for the United States to ...</td>\n",
       "    </tr>\n",
       "    <tr>\n",
       "      <th>3</th>\n",
       "      <td>HEALTH</td>\n",
       "      <td>If you want to be busy, keep trying to be perf...</td>\n",
       "    </tr>\n",
       "    <tr>\n",
       "      <th>4</th>\n",
       "      <td>HEALTH</td>\n",
       "      <td>First, the bad news: Soda bread, corned beef a...</td>\n",
       "    </tr>\n",
       "  </tbody>\n",
       "</table>\n",
       "</div>"
      ],
      "text/plain": [
       "  category                                               news\n",
       "0   HEALTH  Resting is part of training. I've confirmed wh...\n",
       "1   HEALTH  Think of talking to yourself as a tool to coac...\n",
       "2   HEALTH  The clock is ticking for the United States to ...\n",
       "3   HEALTH  If you want to be busy, keep trying to be perf...\n",
       "4   HEALTH  First, the bad news: Soda bread, corned beef a..."
      ]
     },
     "execution_count": 5,
     "metadata": {},
     "output_type": "execute_result"
    }
   ],
   "source": [
    "df.drop(columns=['keywords'], inplace=True)\n",
    "df.head()"
   ]
  },
  {
   "cell_type": "markdown",
   "id": "8d96097a-c0e2-4dc8-8a6a-5591d8dae464",
   "metadata": {},
   "source": [
    "### Exploring the Dataset"
   ]
  },
  {
   "cell_type": "code",
   "execution_count": 6,
   "id": "1a4aa310-6473-489e-8466-a71cf622f657",
   "metadata": {},
   "outputs": [
    {
     "data": {
      "image/png": "[encoded data removed]",
      "text/plain": [
       "<Figure size 640x480 with 1 Axes>"
      ]
     },
     "metadata": {
      "image/png": {
       "height": 537,
       "width": 580
      }
     },
     "output_type": "display_data"
    }
   ],
   "source": [
    "df['category'].value_counts().plot(kind='bar')\n",
    "plt.title('Number of News Articles per Category', size=20, pad=20);"
   ]
  },
  {
   "cell_type": "code",
   "execution_count": 7,
   "id": "1824c16e-3f36-4c9c-9622-d3ac831057d2",
   "metadata": {},
   "outputs": [
    {
     "data": {
      "text/plain": [
       "category    0\n",
       "news        0\n",
       "dtype: int64"
      ]
     },
     "execution_count": 7,
     "metadata": {},
     "output_type": "execute_result"
    }
   ],
   "source": [
    "#Checking for missing values\n",
    "df.isna().sum()"
   ]
  },
  {
   "cell_type": "markdown",
   "id": "b83e37bb-9c3a-49ab-b66d-bb4a4f8ab3fc",
   "metadata": {},
   "source": [
    "### Text Preprocessing"
   ]
  },
  {
   "cell_type": "markdown",
   "id": "d59f743a-53c5-4ad1-bb1c-2da06a887e04",
   "metadata": {},
   "source": [
    "We will now clean the text by removing special characters and punctuations."
   ]
  },
  {
   "cell_type": "code",
   "execution_count": 8,
   "id": "8107bb2e-2c7c-4bd0-b58b-904fa93c1fe8",
   "metadata": {},
   "outputs": [],
   "source": [
    "def preprocess(df):\n",
    "    # Remove special characters\n",
    "    df['news-pro'] = df['news'].replace('\\n',' ')\n",
    "    df['news-pro'] = df['news-pro'].replace('\\r',' ')\n",
    "    \n",
    "    # Remove punctuation and lowercase\n",
    "    df['news-pro'] = df['news-pro'].str.lower()\n",
    "    df['news-pro'] = df['news-pro'].str.translate(str.maketrans('','',string.punctuation))\n",
    "    \n",
    "    # Remove stop words\n",
    "    stop_words = stopwords.words(\"english\")\n",
    "    lemmatizer = WordNetLemmatizer()\n",
    "    \n",
    "    def fwpt(each):\n",
    "        tag = pos_tag([each])[0][1][0].upper()\n",
    "        hash_tag = {\"N\": wordnet.NOUN,\"R\": wordnet.ADV, \"V\": wordnet.VERB,\"J\": wordnet.ADJ}\n",
    "        return hash_tag.get(tag, wordnet.NOUN)\n",
    "\n",
    "\n",
    "    def lematize(text):\n",
    "        tokens = nltk.word_tokenize(text)\n",
    "        ax = \"\"\n",
    "        for each in tokens:\n",
    "            if each not in stop_words:\n",
    "                ax += lemmatizer.lemmatize(each, fwpt(each)) + \" \"\n",
    "        return ax\n",
    "\n",
    "    df['news-pro'] = df['news-pro'].apply(lematize)"
   ]
  },
  {
   "cell_type": "code",
   "execution_count": 9,
   "id": "e0c03215-2dcb-4a98-8caf-605574a4d7b7",
   "metadata": {},
   "outputs": [
    {
     "name": "stderr",
     "output_type": "stream",
     "text": [
      "[nltk_data] Downloading package punkt to\n",
      "[nltk_data]     C:\\Users\\nhyuj\\AppData\\Roaming\\nltk_data...\n",
      "[nltk_data]   Package punkt is already up-to-date!\n",
      "[nltk_data] Downloading package wordnet to\n",
      "[nltk_data]     C:\\Users\\nhyuj\\AppData\\Roaming\\nltk_data...\n",
      "[nltk_data]   Package wordnet is already up-to-date!\n",
      "[nltk_data] Downloading package stopwords to\n",
      "[nltk_data]     C:\\Users\\nhyuj\\AppData\\Roaming\\nltk_data...\n",
      "[nltk_data]   Package stopwords is already up-to-date!\n",
      "[nltk_data] Downloading package averaged_perceptron_tagger to\n",
      "[nltk_data]     C:\\Users\\nhyuj\\AppData\\Roaming\\nltk_data...\n",
      "[nltk_data]   Package averaged_perceptron_tagger is already up-to-\n",
      "[nltk_data]       date!\n"
     ]
    },
    {
     "data": {
      "text/plain": [
       "True"
      ]
     },
     "execution_count": 9,
     "metadata": {},
     "output_type": "execute_result"
    }
   ],
   "source": [
    "nltk.download('punkt')\n",
    "nltk.download('wordnet')\n",
    "nltk.download('stopwords')\n",
    "nltk.download('averaged_perceptron_tagger')"
   ]
  },
  {
   "cell_type": "code",
   "execution_count": 10,
   "id": "3116ad4f-3df9-4c61-b1f1-04d8116f9ee6",
   "metadata": {},
   "outputs": [],
   "source": [
    "preprocess(df)"
   ]
  },
  {
   "cell_type": "markdown",
   "id": "0f282c0c-7866-4877-b3d0-84428d18a4b3",
   "metadata": {},
   "source": [
    "### Preprocessing Demonstration"
   ]
  },
  {
   "cell_type": "markdown",
   "id": "da766339-6549-4218-9561-3537f11d6703",
   "metadata": {},
   "source": [
    "**Before Pre-processing:**"
   ]
  },
  {
   "cell_type": "code",
   "execution_count": 11,
   "id": "7ef3ca98-3316-4dfe-b07d-7b41f506dd02",
   "metadata": {},
   "outputs": [
    {
     "data": {
      "text/plain": [
       "\"Resting is part of training. I've confirmed what I sort of already knew: I'm not built for running streaks. I'm built for hard workouts three to five days a week with lots of cross training, physical therapy and foam rolling. But I've also confirmed that I'm stubborn with myself.\""
      ]
     },
     "execution_count": 11,
     "metadata": {},
     "output_type": "execute_result"
    }
   ],
   "source": [
    "df.iloc[0]['news']"
   ]
  },
  {
   "cell_type": "markdown",
   "id": "d0233748-3cab-45f2-8b4f-1c59541b2cf6",
   "metadata": {},
   "source": [
    "**After Pre-processing**"
   ]
  },
  {
   "cell_type": "code",
   "execution_count": 12,
   "id": "85e2264b-924f-4328-9e59-ed6b52d4c4e0",
   "metadata": {},
   "outputs": [
    {
     "data": {
      "text/plain": [
       "'rest part training ive confirm sort already knew im built run streak im built hard workout three five day week lot cross training physical therapy foam roll ive also confirm im stubborn '"
      ]
     },
     "execution_count": 12,
     "metadata": {},
     "output_type": "execute_result"
    }
   ],
   "source": [
    "df.iloc[0]['news-pro']"
   ]
  },
  {
   "cell_type": "markdown",
   "id": "965dbb4e-c3ce-478f-aacd-2927958ff145",
   "metadata": {},
   "source": [
    "### Train Test Split"
   ]
  },
  {
   "cell_type": "code",
   "execution_count": 13,
   "id": "47d9fa37-7151-41c5-a9ea-85373d48e06f",
   "metadata": {},
   "outputs": [],
   "source": [
    "x_train, x_test, y_train, y_test = train_test_split(df['news-pro'],\n",
    "                                                    df['category'],\n",
    "                                                    test_size=0.25,\n",
    "                                                    random_state=42)"
   ]
  },
  {
   "cell_type": "markdown",
   "id": "e9707927-3d2e-4971-ac95-44aa956f5e25",
   "metadata": {},
   "source": [
    "Check for acceptable category balance"
   ]
  },
  {
   "cell_type": "code",
   "execution_count": 14,
   "id": "9c2eac4e-fe08-4a38-9504-0582b680190d",
   "metadata": {},
   "outputs": [
    {
     "data": {
      "image/png": "[encoded data removed]",
      "text/plain": [
       "<Figure size 640x480 with 1 Axes>"
      ]
     },
     "metadata": {
      "image/png": {
       "height": 537,
       "width": 561
      }
     },
     "output_type": "display_data"
    }
   ],
   "source": [
    "y_train.value_counts().plot(kind='bar')\n",
    "plt.title('Category Balance', size=20, pad=20);"
   ]
  },
  {
   "cell_type": "code",
   "execution_count": 15,
   "id": "1b961ba6-f301-41bf-a09d-ddf806c65111",
   "metadata": {},
   "outputs": [
    {
     "name": "stdout",
     "output_type": "stream",
     "text": [
      "(11250,) (3750,) (11250,) (3750,)\n"
     ]
    }
   ],
   "source": [
    "print(x_train.shape, x_test.shape, y_train.shape, y_test.shape)"
   ]
  },
  {
   "cell_type": "markdown",
   "id": "730ed73e-45f0-493d-b98e-04e63f29dc57",
   "metadata": {},
   "source": [
    "### Vectorize"
   ]
  },
  {
   "cell_type": "code",
   "execution_count": 16,
   "id": "105a2b7e-d5e1-4d5b-aeee-3d42ae79359a",
   "metadata": {},
   "outputs": [],
   "source": [
    "vector = TfidfVectorizer(stop_words='english',\n",
    "                        ngram_range = (1,2),\n",
    "                        min_df = 3,\n",
    "                        max_df = 0.7,\n",
    "                        max_features = 10000)"
   ]
  },
  {
   "cell_type": "markdown",
   "id": "865cb1fa-cee1-4ae2-8d29-c123171043b7",
   "metadata": {},
   "source": [
    "### Model Construction"
   ]
  },
  {
   "cell_type": "code",
   "execution_count": 17,
   "id": "c6c7d169-b6ef-4280-9a8d-9549f1df170d",
   "metadata": {},
   "outputs": [],
   "source": [
    "def fit_model(model, model_name):\n",
    "    line = Pipeline([('vectorize', vector), (model_name, model)])\n",
    "    \n",
    "    output = cross_validate(line, x_train, y_train,\n",
    "                            cv = KFold(shuffle = True,\n",
    "                                       n_splits=3,\n",
    "                                       random_state=42),\n",
    "                            scoring = ('accuracy', 'f1_weighted','precision_weighted','recall_weighted'),\n",
    "                            return_train_score=True, error_score='raise')\n",
    "    return output"
   ]
  },
  {
   "cell_type": "code",
   "execution_count": 18,
   "id": "e81441c0-fa9e-45d2-84de-f7431a9dd020",
   "metadata": {},
   "outputs": [],
   "source": [
    "decisiontree = fit_model(DecisionTreeClassifier(), 'DecisionTree')\n",
    "ridge = fit_model(RidgeClassifier(), 'Ridge')\n",
    "bayes = fit_model(MultinomialNB(), 'NaiveBayes')\n",
    "\n",
    "dt = pd.DataFrame.from_dict(decisiontree)\n",
    "rc = pd.DataFrame.from_dict(ridge)\n",
    "bc = pd.DataFrame.from_dict(bayes)"
   ]
  },
  {
   "cell_type": "code",
   "execution_count": 19,
   "id": "0b560f75-79d4-4986-a7a3-da18d4bb414d",
   "metadata": {},
   "outputs": [],
   "source": [
    "l1 = [bc, rc, dt]\n",
    "l2 = [\"NaiveBayes\",\"Ridge\",\"DecisionTree\"]\n",
    "\n",
    "for each, tag in zip(l1,l2):\n",
    "    each['model'] = [tag, tag, tag]\n",
    "\n",
    "joined_output = pd.concat([bc,rc,dt])"
   ]
  },
  {
   "cell_type": "code",
   "execution_count": 20,
   "id": "d5d17b1d-4242-480d-9506-60e093e3303d",
   "metadata": {},
   "outputs": [
    {
     "data": {
      "text/plain": [
       "{'fit_time': array([1.96161699, 1.93895864, 1.9378376 ]),\n",
       " 'score_time': array([0.12617564, 0.12312675, 0.12552571]),\n",
       " 'test_accuracy': array([0.76773333, 0.75973333, 0.75893333]),\n",
       " 'train_accuracy': array([0.99933333, 0.99866667, 0.99946667]),\n",
       " 'test_f1_weighted': array([0.76689469, 0.75757093, 0.75758639]),\n",
       " 'train_f1_weighted': array([0.99933334, 0.99866665, 0.99946667]),\n",
       " 'test_precision_weighted': array([0.76671715, 0.75800662, 0.7576806 ]),\n",
       " 'train_precision_weighted': array([0.99933468, 0.99867191, 0.99946751]),\n",
       " 'test_recall_weighted': array([0.76773333, 0.75973333, 0.75893333]),\n",
       " 'train_recall_weighted': array([0.99933333, 0.99866667, 0.99946667])}"
      ]
     },
     "execution_count": 20,
     "metadata": {},
     "output_type": "execute_result"
    }
   ],
   "source": [
    "decisiontree"
   ]
  },
  {
   "cell_type": "code",
   "execution_count": 21,
   "id": "dd01e96b-2a66-4316-b4b3-7b40c5aa74db",
   "metadata": {},
   "outputs": [
    {
     "data": {
      "text/plain": [
       "{'fit_time': array([0.35751057, 0.32943177, 0.32854104]),\n",
       " 'score_time': array([0.11163211, 0.11151075, 0.11151695]),\n",
       " 'test_accuracy': array([0.852     , 0.8528    , 0.85173333]),\n",
       " 'train_accuracy': array([0.97786667, 0.98026667, 0.97746667]),\n",
       " 'test_f1_weighted': array([0.85171693, 0.85245331, 0.85128898]),\n",
       " 'train_f1_weighted': array([0.97785847, 0.98026395, 0.97745885]),\n",
       " 'test_precision_weighted': array([0.85191804, 0.85232188, 0.85144191]),\n",
       " 'train_precision_weighted': array([0.97790594, 0.98030413, 0.9775063 ]),\n",
       " 'test_recall_weighted': array([0.852     , 0.8528    , 0.85173333]),\n",
       " 'train_recall_weighted': array([0.97786667, 0.98026667, 0.97746667])}"
      ]
     },
     "execution_count": 21,
     "metadata": {},
     "output_type": "execute_result"
    }
   ],
   "source": [
    "ridge"
   ]
  },
  {
   "cell_type": "code",
   "execution_count": 22,
   "id": "02e56bf7-5e36-4932-b4b6-9ed911f8e90a",
   "metadata": {},
   "outputs": [
    {
     "data": {
      "text/plain": [
       "{'fit_time': array([0.31732106, 0.30356646, 0.33156085]),\n",
       " 'score_time': array([0.11674285, 0.11253142, 0.11152482]),\n",
       " 'test_accuracy': array([0.81493333, 0.83333333, 0.82426667]),\n",
       " 'train_accuracy': array([0.904     , 0.91093333, 0.90586667]),\n",
       " 'test_f1_weighted': array([0.81586234, 0.83400543, 0.82453745]),\n",
       " 'train_f1_weighted': array([0.90418075, 0.91116052, 0.90620951]),\n",
       " 'test_precision_weighted': array([0.82948265, 0.83954364, 0.83334813]),\n",
       " 'train_precision_weighted': array([0.9089346 , 0.91418629, 0.91011813]),\n",
       " 'test_recall_weighted': array([0.81493333, 0.83333333, 0.82426667]),\n",
       " 'train_recall_weighted': array([0.904     , 0.91093333, 0.90586667])}"
      ]
     },
     "execution_count": 22,
     "metadata": {},
     "output_type": "execute_result"
    }
   ],
   "source": [
    "bayes"
   ]
  },
  {
   "cell_type": "code",
   "execution_count": 23,
   "id": "f3cd5c41-71df-49d3-9ea9-02a04a03c651",
   "metadata": {},
   "outputs": [],
   "source": [
    "relevant_measures = list(['test_accuracy', 'test_precision_weighted', 'test_recall_weighted',  'test_f1_weighted'])\n",
    "\n",
    "\n",
    "dec_tree_metrics = joined_output.loc[joined_output.model == 'DecisionTree'][relevant_measures]\n",
    "nb_metrics = joined_output.loc[joined_output.model == 'NaiveBayes'][relevant_measures]\n",
    "r_metrics = joined_output.loc[joined_output.model == 'Ridge'][relevant_measures]"
   ]
  },
  {
   "cell_type": "markdown",
   "id": "f0f94904-c7de-46ad-b220-4febac2e95f6",
   "metadata": {},
   "source": [
    "Decision Tree Metrics"
   ]
  },
  {
   "cell_type": "code",
   "execution_count": 24,
   "id": "cd070e27-4f6c-4ac3-8e21-b52ce368a104",
   "metadata": {},
   "outputs": [
    {
     "data": {
      "text/html": [
       "<div>\n",
       "<style scoped>\n",
       "    .dataframe tbody tr th:only-of-type {\n",
       "        vertical-align: middle;\n",
       "    }\n",
       "\n",
       "    .dataframe tbody tr th {\n",
       "        vertical-align: top;\n",
       "    }\n",
       "\n",
       "    .dataframe thead th {\n",
       "        text-align: right;\n",
       "    }\n",
       "</style>\n",
       "<table border=\"1\" class=\"dataframe\">\n",
       "  <thead>\n",
       "    <tr style=\"text-align: right;\">\n",
       "      <th></th>\n",
       "      <th>test_accuracy</th>\n",
       "      <th>test_precision_weighted</th>\n",
       "      <th>test_recall_weighted</th>\n",
       "      <th>test_f1_weighted</th>\n",
       "    </tr>\n",
       "  </thead>\n",
       "  <tbody>\n",
       "    <tr>\n",
       "      <th>0</th>\n",
       "      <td>0.767733</td>\n",
       "      <td>0.766717</td>\n",
       "      <td>0.767733</td>\n",
       "      <td>0.766895</td>\n",
       "    </tr>\n",
       "    <tr>\n",
       "      <th>1</th>\n",
       "      <td>0.759733</td>\n",
       "      <td>0.758007</td>\n",
       "      <td>0.759733</td>\n",
       "      <td>0.757571</td>\n",
       "    </tr>\n",
       "    <tr>\n",
       "      <th>2</th>\n",
       "      <td>0.758933</td>\n",
       "      <td>0.757681</td>\n",
       "      <td>0.758933</td>\n",
       "      <td>0.757586</td>\n",
       "    </tr>\n",
       "  </tbody>\n",
       "</table>\n",
       "</div>"
      ],
      "text/plain": [
       "   test_accuracy  test_precision_weighted  test_recall_weighted  \\\n",
       "0       0.767733                 0.766717              0.767733   \n",
       "1       0.759733                 0.758007              0.759733   \n",
       "2       0.758933                 0.757681              0.758933   \n",
       "\n",
       "   test_f1_weighted  \n",
       "0          0.766895  \n",
       "1          0.757571  \n",
       "2          0.757586  "
      ]
     },
     "execution_count": 24,
     "metadata": {},
     "output_type": "execute_result"
    }
   ],
   "source": [
    "dec_tree_metrics"
   ]
  },
  {
   "cell_type": "markdown",
   "id": "2b0b465d-2aad-4bbe-86e9-680cba9d463f",
   "metadata": {},
   "source": [
    "Multinomial Naive Bayes Metrics"
   ]
  },
  {
   "cell_type": "code",
   "execution_count": 25,
   "id": "8921102c-9fd4-43f2-9a4f-282ff6752b85",
   "metadata": {},
   "outputs": [
    {
     "data": {
      "text/html": [
       "<div>\n",
       "<style scoped>\n",
       "    .dataframe tbody tr th:only-of-type {\n",
       "        vertical-align: middle;\n",
       "    }\n",
       "\n",
       "    .dataframe tbody tr th {\n",
       "        vertical-align: top;\n",
       "    }\n",
       "\n",
       "    .dataframe thead th {\n",
       "        text-align: right;\n",
       "    }\n",
       "</style>\n",
       "<table border=\"1\" class=\"dataframe\">\n",
       "  <thead>\n",
       "    <tr style=\"text-align: right;\">\n",
       "      <th></th>\n",
       "      <th>test_accuracy</th>\n",
       "      <th>test_precision_weighted</th>\n",
       "      <th>test_recall_weighted</th>\n",
       "      <th>test_f1_weighted</th>\n",
       "    </tr>\n",
       "  </thead>\n",
       "  <tbody>\n",
       "    <tr>\n",
       "      <th>0</th>\n",
       "      <td>0.814933</td>\n",
       "      <td>0.829483</td>\n",
       "      <td>0.814933</td>\n",
       "      <td>0.815862</td>\n",
       "    </tr>\n",
       "    <tr>\n",
       "      <th>1</th>\n",
       "      <td>0.833333</td>\n",
       "      <td>0.839544</td>\n",
       "      <td>0.833333</td>\n",
       "      <td>0.834005</td>\n",
       "    </tr>\n",
       "    <tr>\n",
       "      <th>2</th>\n",
       "      <td>0.824267</td>\n",
       "      <td>0.833348</td>\n",
       "      <td>0.824267</td>\n",
       "      <td>0.824537</td>\n",
       "    </tr>\n",
       "  </tbody>\n",
       "</table>\n",
       "</div>"
      ],
      "text/plain": [
       "   test_accuracy  test_precision_weighted  test_recall_weighted  \\\n",
       "0       0.814933                 0.829483              0.814933   \n",
       "1       0.833333                 0.839544              0.833333   \n",
       "2       0.824267                 0.833348              0.824267   \n",
       "\n",
       "   test_f1_weighted  \n",
       "0          0.815862  \n",
       "1          0.834005  \n",
       "2          0.824537  "
      ]
     },
     "execution_count": 25,
     "metadata": {},
     "output_type": "execute_result"
    }
   ],
   "source": [
    "nb_metrics"
   ]
  },
  {
   "cell_type": "markdown",
   "id": "44856407-7851-4b37-b29d-697ddde0240c",
   "metadata": {},
   "source": [
    "Ridge Classifier Metrics"
   ]
  },
  {
   "cell_type": "code",
   "execution_count": 26,
   "id": "b6bcc7c3-33d2-4959-a472-ae7bce0ddd18",
   "metadata": {},
   "outputs": [
    {
     "data": {
      "text/html": [
       "<div>\n",
       "<style scoped>\n",
       "    .dataframe tbody tr th:only-of-type {\n",
       "        vertical-align: middle;\n",
       "    }\n",
       "\n",
       "    .dataframe tbody tr th {\n",
       "        vertical-align: top;\n",
       "    }\n",
       "\n",
       "    .dataframe thead th {\n",
       "        text-align: right;\n",
       "    }\n",
       "</style>\n",
       "<table border=\"1\" class=\"dataframe\">\n",
       "  <thead>\n",
       "    <tr style=\"text-align: right;\">\n",
       "      <th></th>\n",
       "      <th>test_accuracy</th>\n",
       "      <th>test_precision_weighted</th>\n",
       "      <th>test_recall_weighted</th>\n",
       "      <th>test_f1_weighted</th>\n",
       "    </tr>\n",
       "  </thead>\n",
       "  <tbody>\n",
       "    <tr>\n",
       "      <th>0</th>\n",
       "      <td>0.852000</td>\n",
       "      <td>0.851918</td>\n",
       "      <td>0.852000</td>\n",
       "      <td>0.851717</td>\n",
       "    </tr>\n",
       "    <tr>\n",
       "      <th>1</th>\n",
       "      <td>0.852800</td>\n",
       "      <td>0.852322</td>\n",
       "      <td>0.852800</td>\n",
       "      <td>0.852453</td>\n",
       "    </tr>\n",
       "    <tr>\n",
       "      <th>2</th>\n",
       "      <td>0.851733</td>\n",
       "      <td>0.851442</td>\n",
       "      <td>0.851733</td>\n",
       "      <td>0.851289</td>\n",
       "    </tr>\n",
       "  </tbody>\n",
       "</table>\n",
       "</div>"
      ],
      "text/plain": [
       "   test_accuracy  test_precision_weighted  test_recall_weighted  \\\n",
       "0       0.852000                 0.851918              0.852000   \n",
       "1       0.852800                 0.852322              0.852800   \n",
       "2       0.851733                 0.851442              0.851733   \n",
       "\n",
       "   test_f1_weighted  \n",
       "0          0.851717  \n",
       "1          0.852453  \n",
       "2          0.851289  "
      ]
     },
     "execution_count": 26,
     "metadata": {},
     "output_type": "execute_result"
    }
   ],
   "source": [
    "r_metrics"
   ]
  },
  {
   "cell_type": "markdown",
   "id": "349fb652-2f07-4b55-9e1a-709e7079a0ee",
   "metadata": {},
   "source": [
    "Average Metrics"
   ]
  },
  {
   "cell_type": "code",
   "execution_count": 27,
   "id": "ec3e4bb9-847a-4173-917a-bd765f915ab2",
   "metadata": {},
   "outputs": [
    {
     "name": "stdout",
     "output_type": "stream",
     "text": [
      "Decision Tree Mean Metrics:\n",
      "test_accuracy              0.762133\n",
      "test_precision_weighted    0.760801\n",
      "test_recall_weighted       0.762133\n",
      "test_f1_weighted           0.760684\n",
      "dtype: float64\n",
      " \n",
      "Naive Bayes Mean Metrics:\n",
      "test_accuracy              0.824178\n",
      "test_precision_weighted    0.834125\n",
      "test_recall_weighted       0.824178\n",
      "test_f1_weighted           0.824802\n",
      "dtype: float64\n",
      " \n",
      "Ridge Classifier Mean Metrics:\n",
      "test_accuracy              0.852178\n",
      "test_precision_weighted    0.851894\n",
      "test_recall_weighted       0.852178\n",
      "test_f1_weighted           0.851820\n",
      "dtype: float64\n",
      " \n"
     ]
    }
   ],
   "source": [
    "metrics_ = [dec_tree_metrics, nb_metrics, r_metrics]\n",
    "names_ = ['Decision Tree', 'Naive Bayes', 'Ridge Classifier']\n",
    "\n",
    "for scores, names in zip(metrics_, names_):\n",
    "    print(f'{names} Mean Metrics:')\n",
    "    print(scores.mean())\n",
    "    print(\" \")"
   ]
  },
  {
   "cell_type": "markdown",
   "id": "2fc48841-d945-478a-8d1d-5d93f6a3637b",
   "metadata": {},
   "source": [
    "### Selecting a Model"
   ]
  },
  {
   "cell_type": "markdown",
   "id": "548bc3eb-2197-453c-b2a5-565e0a5ec036",
   "metadata": {},
   "source": [
    "We can see from the metrics above that Ridge Classifier performs the best among three. However, we will be choosing the Multinomial Naive Bayes Classifier as the final model due to it's ability to provide probability score for each prediction."
   ]
  },
  {
   "cell_type": "code",
   "execution_count": 28,
   "id": "c390b24b-c36a-4386-a07f-d70619e41c3f",
   "metadata": {},
   "outputs": [],
   "source": [
    "x = pd.concat([x_train,\n",
    "               x_test])\n",
    "y = pd.concat([y_train,\n",
    "               y_test])"
   ]
  },
  {
   "cell_type": "code",
   "execution_count": 29,
   "id": "f8c149b6-8eea-4659-b318-5588493a3767",
   "metadata": {},
   "outputs": [],
   "source": [
    "def create_and_fit(clf, x, y):\n",
    "    best_clf = clf\n",
    "    pipeline = Pipeline([('vectorize',vector), ('model',best_clf)])\n",
    "    return pipeline.fit(x,y)"
   ]
  },
  {
   "cell_type": "code",
   "execution_count": 30,
   "id": "0f81b68f-fcc7-4e57-9f4c-3bb3be033700",
   "metadata": {},
   "outputs": [],
   "source": [
    "classifier = create_and_fit(MultinomialNB(),x,y)"
   ]
  },
  {
   "cell_type": "code",
   "execution_count": 31,
   "id": "63843947-c9a1-47aa-97bf-e99295f056e8",
   "metadata": {},
   "outputs": [
    {
     "data": {
      "text/plain": [
       "array(['BUSINESS', 'HEALTH', 'SPORTS'], dtype='<U8')"
      ]
     },
     "execution_count": 31,
     "metadata": {},
     "output_type": "execute_result"
    }
   ],
   "source": [
    "classifier.classes_"
   ]
  },
  {
   "cell_type": "markdown",
   "id": "12956b34-37c8-416d-9bff-7d68dbe35696",
   "metadata": {},
   "source": [
    "### Final Testing"
   ]
  },
  {
   "cell_type": "markdown",
   "id": "2735e8f7-c1d4-4865-8dc1-2dfe714400f4",
   "metadata": {},
   "source": [
    "This text is extracted through Google News from the Business Section.\n",
    "The classifier should predict the text as \"BUSINESS\""
   ]
  },
  {
   "cell_type": "code",
   "execution_count": 32,
   "id": "640f526c-777a-41c4-9ba3-e65a8d89d894",
   "metadata": {},
   "outputs": [
    {
     "data": {
      "text/plain": [
       "array([[0.43035041, 0.2765513 , 0.29309829]])"
      ]
     },
     "execution_count": 32,
     "metadata": {},
     "output_type": "execute_result"
    }
   ],
   "source": [
    "input_text = 'A 34%, three-day surge in SoftBank Group Corp. has pushed its shares to the most overbought level in more than two decades on the back of Arm Holdings Plc.’s explosive rally.'\n",
    "classifier.predict_proba([input_text])"
   ]
  },
  {
   "cell_type": "code",
   "execution_count": 33,
   "id": "97a4614e-d93f-4ea1-a69d-966d5fcd6745",
   "metadata": {},
   "outputs": [
    {
     "data": {
      "text/plain": [
       "'BUSINESS'"
      ]
     },
     "execution_count": 33,
     "metadata": {},
     "output_type": "execute_result"
    }
   ],
   "source": [
    "classifier.predict([input_text])[0]"
   ]
  },
  {
   "cell_type": "markdown",
   "id": "d73554c4-6398-4e3e-9223-ac08e253ce69",
   "metadata": {},
   "source": [
    "### GUI"
   ]
  },
  {
   "cell_type": "code",
   "execution_count": 36,
   "id": "7c72fb0e-fe14-4c26-a0ee-6d9c19d0a654",
   "metadata": {},
   "outputs": [],
   "source": [
    "import tkinter as tk\n",
    "from tkinter.scrolledtext import ScrolledText\n",
    "\n",
    "\n",
    "window = tk.Tk()\n",
    "\n",
    "\n",
    "window.title(\"TEXT CLASSIFIER\")\n",
    "window.minsize(600,400)\n",
    "\n",
    "text_box = ScrolledText(window)\n",
    "text_box.grid(column=0, row=1, padx=5, pady=5)\n",
    "\n",
    "def result(res, pr):\n",
    "    BUSINESS = round(pr[0][0], 3)\n",
    "    HEALTH = round(pr[0][1], 3)\n",
    "    SPORTS = round(pr[0][2], 3)\n",
    "    \n",
    "    lines = [f\"Health: {HEALTH}\", f\"Business: {BUSINESS}\", f\"Sports: {SPORTS}\"]\n",
    "    tk.messagebox.showinfo(message= f\"Predicted Category: {str(res).capitalize()}\" + \"\\n\\n\\n\"+\"\\n\".join(lines))\n",
    "\n",
    "def clickMe():\n",
    "    classification = tk.StringVar()\n",
    "    category_,probabilities = classify_text(text_box.get(\"1.0\",tk.END))\n",
    "    result(category_, probabilities)\n",
    "    \n",
    "\n",
    "def classify_text(input_text):\n",
    "    out = classifier.predict([input_text])[0]\n",
    "    probs = classifier.predict_proba([input_text])\n",
    "    return out,probs\n",
    "\n",
    "label = tk.Label(window, text = \"Enter Text to be classified\")\n",
    "label.grid(column = 0, row = 0)\n",
    "\n",
    "btn = tk.Button(window, text=\"Classify\", command=clickMe)\n",
    "btn.grid(column=0, row=2)\n",
    "\n",
    "\n",
    "window.mainloop()"
   ]
  }
 ],
 "metadata": {
  "kernelspec": {
   "display_name": "Python 3 (ipykernel)",
   "language": "python",
   "name": "python3"
  },
  "language_info": {
   "codemirror_mode": {
    "name": "ipython",
    "version": 3
   },
   "file_extension": ".py",
   "mimetype": "text/x-python",
   "name": "python",
   "nbconvert_exporter": "python",
   "pygments_lexer": "ipython3",
   "version": "3.12.1"
  }
 },
 "nbformat": 4,
 "nbformat_minor": 5
}
